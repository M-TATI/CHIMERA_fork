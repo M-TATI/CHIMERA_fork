{
 "cells": [
  {
   "cell_type": "markdown",
   "id": "3b3c2f69-7f82-4477-bb41-29b445a43079",
   "metadata": {},
   "source": [
    "# Analysis of H0 with MICEv2 catalog and GW170817"
   ]
  },
  {
   "cell_type": "markdown",
   "id": "4d258ca3-c031-4f03-97a7-16728302adaf",
   "metadata": {},
   "source": [
    "### Flat LCDM\n",
    "\n",
    "- astro.mass = pdf_FLAT, dummy_mass\n",
    "- astro.rate = phi_PL, dummy_rate"
   ]
  },
  {
   "cell_type": "code",
   "execution_count": 3,
   "id": "ccd7e1ca-8266-40b1-90ee-44cd24c10b2b",
   "metadata": {},
   "outputs": [],
   "source": [
    "import os\n",
    "import h5py \n",
    "import json\n",
    "import numpy as np\n",
    "import healpy as hp\n",
    "import pickle\n",
    "import matplotlib.pyplot as plt\n",
    "import plotly.graph_objs as go\n",
    "import plotly.express as px\n",
    "import plotly.io as pio\n",
    "from tqdm import tqdm\n",
    "from scipy.interpolate import interp1d\n",
    "from mpl_toolkits.mplot3d import Axes3D\n",
    "from matplotlib.ticker import FuncFormatter\n",
    "from scipy.optimize import root\n",
    "from astropy.cosmology import FlatLambdaCDM\n",
    "%config InlineBackend.figure_format = \"svg\"\n",
    "#.................................................\n",
    "from CHIMERA.DataGW import DataLVK                    \n",
    "from CHIMERA.Likelihood import LikeLVK\n",
    "from CHIMERA.astro.mass import pdf_FLAT, dummy_mass\n",
    "from CHIMERA.astro.rate import phi_PL, dummy_rate\n",
    "from CHIMERA.cosmo import fLCDM\n",
    "from CHIMERA.utils import misc, plotting\n"
   ]
  },
  {
   "cell_type": "code",
   "execution_count": null,
   "id": "351e92c1-4fff-4cf4-b3dd-6d42662fb586",
   "metadata": {},
   "outputs": [],
   "source": []
  },
  {
   "cell_type": "code",
   "execution_count": null,
   "id": "22a3915d-9830-4efd-b3a5-26fe735693bd",
   "metadata": {},
   "outputs": [],
   "source": []
  },
  {
   "cell_type": "code",
   "execution_count": null,
   "id": "c5364b9d-35fe-4228-a58a-a7e648f2f90b",
   "metadata": {},
   "outputs": [],
   "source": []
  },
  {
   "cell_type": "code",
   "execution_count": null,
   "id": "7056b41d-9033-4eae-b47b-0933f92162d0",
   "metadata": {},
   "outputs": [],
   "source": []
  },
  {
   "cell_type": "code",
   "execution_count": null,
   "id": "97598194-92ee-4f62-9f47-5f99b6e24723",
   "metadata": {},
   "outputs": [],
   "source": []
  },
  {
   "cell_type": "code",
   "execution_count": null,
   "id": "04b24c7e-485d-457e-8008-91bcefbc8a6d",
   "metadata": {},
   "outputs": [],
   "source": []
  },
  {
   "cell_type": "code",
   "execution_count": null,
   "id": "9abe8894-f1c1-4c6b-a4ce-31a07e57fd45",
   "metadata": {},
   "outputs": [],
   "source": []
  },
  {
   "cell_type": "code",
   "execution_count": null,
   "id": "682cc546-63a6-4ad4-9f9a-e0f5f4029dbc",
   "metadata": {},
   "outputs": [],
   "source": []
  },
  {
   "cell_type": "code",
   "execution_count": null,
   "id": "af433943-db47-463d-aa80-2c39fd351cb4",
   "metadata": {},
   "outputs": [],
   "source": []
  },
  {
   "cell_type": "code",
   "execution_count": null,
   "id": "ef57fd52-7092-40d3-88e1-9565ff4ffeef",
   "metadata": {},
   "outputs": [],
   "source": []
  },
  {
   "cell_type": "code",
   "execution_count": null,
   "id": "8011fbb3-1d68-4c7f-98aa-f9ccac98e855",
   "metadata": {},
   "outputs": [],
   "source": []
  },
  {
   "cell_type": "markdown",
   "id": "2b62df4f-95c9-428d-993e-620bb9779c96",
   "metadata": {},
   "source": [
    "### LCDM with curvature\n",
    "\n",
    "- astro.mass = pdf_FLAT, dummy_mass\n",
    "- astro.rate = phi_PL, dummy_rate"
   ]
  },
  {
   "cell_type": "code",
   "execution_count": null,
   "id": "fb3ccde1-3871-411e-b4c0-8337772bb361",
   "metadata": {},
   "outputs": [],
   "source": [
    "import os\n",
    "import h5py \n",
    "import json\n",
    "import numpy as np\n",
    "import healpy as hp\n",
    "import pickle\n",
    "import matplotlib.pyplot as plt\n",
    "import plotly.graph_objs as go\n",
    "import plotly.express as px\n",
    "import plotly.io as pio\n",
    "from tqdm import tqdm\n",
    "from scipy.interpolate import interp1d\n",
    "from mpl_toolkits.mplot3d import Axes3D\n",
    "from matplotlib.ticker import FuncFormatter\n",
    "from scipy.optimize import root\n",
    "%config InlineBackend.figure_format = \"svg\"\n",
    "#.................................................\n",
    "from CHIMERA.DataGW import DataLVK                    \n",
    "from CHIMERA.Likelihood import LikeLVK\n",
    "from CHIMERA.astro.mass import pdf_FLAT, dummy_mass\n",
    "from CHIMERA.astro.rate import phi_PL, dummy_rate\n",
    "from CHIMERA.cosmo import LCDM\n",
    "from CHIMERA.utils import misc, plotting"
   ]
  }
 ],
 "metadata": {
  "kernelspec": {
   "display_name": "Python 3 (ipykernel)",
   "language": "python",
   "name": "python3"
  },
  "language_info": {
   "codemirror_mode": {
    "name": "ipython",
    "version": 3
   },
   "file_extension": ".py",
   "mimetype": "text/x-python",
   "name": "python",
   "nbconvert_exporter": "python",
   "pygments_lexer": "ipython3",
   "version": "3.11.9"
  }
 },
 "nbformat": 4,
 "nbformat_minor": 5
}
