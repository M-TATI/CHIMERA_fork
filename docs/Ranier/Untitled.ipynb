{
 "cells": [
  {
   "cell_type": "code",
   "execution_count": 1,
   "id": "a907424e-c072-4eba-8870-3e7277a66628",
   "metadata": {},
   "outputs": [],
   "source": [
    "import pandas as pd\n",
    "import h5py \n",
    "import plotly.graph_objs as go"
   ]
  },
  {
   "cell_type": "code",
   "execution_count": 2,
   "id": "741dfc00-2cb4-4cff-b5f0-bf37eeace599",
   "metadata": {},
   "outputs": [],
   "source": [
    "#Ranier data\n",
    "input_data = pd.read_csv('/home/tatiane-moraes/Área de Trabalho/Ranier-data/Input/InputGW_BBH.csv')\n",
    "output_data90 = pd.read_csv('/home/tatiane-moraes/Área de Trabalho/Ranier-data/Output/IMRPhenomXPHM/CE_ET_LVK/DC_90/OutputGWs.csv')\n",
    "\n",
    "#GLADE+ catalog\n",
    "dir_GLADE= \"../../data/GLADE/glade+_GW170817_cutout.hdf5\""
   ]
  },
  {
   "cell_type": "code",
   "execution_count": null,
   "id": "2d76c2f9-9d5e-4f1a-9595-ea062c84874f",
   "metadata": {},
   "outputs": [],
   "source": [
    "#FROM RANIER --------------\n",
    "z_LSST= input_data['z']\n",
    "ra_R= input_data['RA']\n",
    "dec_R= input_data['Dec']\n",
    "dl_R= input_data['DL']/1000   #to Mpc\n",
    "\n",
    "#FROM GLADE+ --------------\n",
    "z_Glade = GLADE['z'][:]\n",
    "ra_G = GLADE['ra'][:]\n",
    "dec_G = GLADE['dec'][:]\n",
    "sigmaz_G = GLADE['sigmaz'][:]"
   ]
  },
  {
   "cell_type": "code",
   "execution_count": null,
   "id": "f5d16087-6be4-4b79-b30a-d7ef5c19897f",
   "metadata": {},
   "outputs": [],
   "source": []
  },
  {
   "cell_type": "code",
   "execution_count": null,
   "id": "7329d1dc-23ff-4e0e-9614-a1c688a04f05",
   "metadata": {},
   "outputs": [],
   "source": [
    "recipe  = {\"data_GW_names\":     data_GW_n,       ...................................... \n",
    "           \"data_GW\":           data_GW,          ............................................\n",
    "           \"data_GW_smooth\":    0.3,              \n",
    "           \"data_GAL_dir\":      dir_GLADE,        \n",
    "           #\"data_GAL_int_dir\":  dir_GLADE_int,    \n",
    "           \"data_GAL_weights\":  \"L_K\",            \n",
    "           \"npix_event\":        20,               \n",
    "           \"sky_conf\":          0.90,             \n",
    "           \"nside_list\":        [512,256,128,64,32,16,8],    \n",
    "           \"z_int_sigma\":       5,               \n",
    "           \"z_int_res\":         300,              \n",
    "           \"z_det_range\":       [0.01, 0.5],    ...................................  \n",
    "           \"z_int_H0_prior\":    [30.,220.],       \n",
    "           \"Lcut\":              0.02,             \n",
    "           \"band\":              \"K\",\n",
    "           \"completeness\":      None,\n",
    "}"
   ]
  },
  {
   "cell_type": "code",
   "execution_count": null,
   "id": "851af438-90e0-46df-9232-7a0d27a4dcc9",
   "metadata": {},
   "outputs": [],
   "source": [
    "like_dark = LikeLVK(model_cosmo = fLCDM, model_mass  = dummy_mass, model_rate  = dummy_rate, **recipe)\n",
    "\n",
    "grid_H0 = np.linspace(20.,200.,99)          \n",
    "like_H0 = np.zeros_like(grid_H0)            \n",
    "\n",
    "lambda_cosmo = {\"Om0\": 0.3, \"H0\": 70.0}    \n",
    "lambda_mass = {}\n",
    "lambda_rate = {}\n",
    "\n",
    "for i in tqdm(range(len(grid_H0))):    \n",
    "    lambda_cosmo[\"H0\"] = grid_H0[i]\n",
    "    like_H0[i]      = like_dark.compute(lambda_cosmo, lambda_mass, lambda_rate, inspect=True)\n",
    "    \n",
    "    # Adicionar prints para diagnóstico\n",
    "    print(f\"Iteration {i}\")\n",
    "    print(f\"lambda_cosmo: {lambda_cosmo}\")\n",
    "    print(f\"like_H0[{i}]: {like_H0[i]}\")\n",
    "\n",
    "# Depois do loop, mostrar todos os resultados\n",
    "print(\"Resultados finais:\")\n",
    "print(\"grid_H0:\", grid_H0)\n",
    "print(\"like_H0:\", like_H0)\n",
    "\n",
    "\n",
    "plt.plot(grid_H0, like_H0)\n",
    "plt.xlabel('$H_0$')\n",
    "plt.ylabel('Likelihood')\n",
    "plt.grid(True)\n",
    "plt.show()"
   ]
  },
  {
   "cell_type": "code",
   "execution_count": null,
   "id": "92f53886-8f31-406a-affd-32d34d50ea8f",
   "metadata": {},
   "outputs": [],
   "source": []
  }
 ],
 "metadata": {
  "kernelspec": {
   "display_name": "Python 3 (ipykernel)",
   "language": "python",
   "name": "python3"
  },
  "language_info": {
   "codemirror_mode": {
    "name": "ipython",
    "version": 3
   },
   "file_extension": ".py",
   "mimetype": "text/x-python",
   "name": "python",
   "nbconvert_exporter": "python",
   "pygments_lexer": "ipython3",
   "version": "3.11.9"
  }
 },
 "nbformat": 4,
 "nbformat_minor": 5
}
